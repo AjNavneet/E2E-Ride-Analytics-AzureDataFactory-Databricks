{
 "cells": [
  {
   "cell_type": "markdown",
   "metadata": {
    "application/vnd.databricks.v1+cell": {
     "cellMetadata": {},
     "inputWidgets": {},
     "nuid": "f688bee7-a795-4920-bc66-4624a71525ac",
     "showTitle": false,
     "title": ""
    }
   },
   "source": [
    "# Create a Payment Status dimension"
   ]
  },
  {
   "cell_type": "code",
   "execution_count": null,
   "metadata": {
    "application/vnd.databricks.v1+cell": {
     "cellMetadata": {
      "byteLimit": 2048000,
      "rowLimit": 10000
     },
     "inputWidgets": {},
     "nuid": "07b36bce-6abe-4017-8c55-32072eb52de7",
     "showTitle": false,
     "title": ""
    }
   },
   "outputs": [],
   "source": [
    "from delta.tables import *\n",
    "from pyspark.sql.functions import *\n",
    "import pyspark.sql.functions as F"
   ]
  },
  {
   "cell_type": "code",
   "execution_count": null,
   "metadata": {
    "application/vnd.databricks.v1+cell": {
     "cellMetadata": {
      "byteLimit": 2048000,
      "rowLimit": 10000
     },
     "inputWidgets": {},
     "nuid": "724972a0-0fd1-46b2-aa58-b82183e5b5f5",
     "showTitle": false,
     "title": ""
    }
   },
   "outputs": [],
   "source": [
    "# Reading data from a Delta table into DataFrame df1\n",
    "df1 = spark.read.load(\"/mnt/Deltalake/Bronze/Trip_Transactions\")\n",
    "\n",
    "# Selecting specific columns from df1 and creating a new DataFrame df2\n",
    "df2 = df1.select(\"trip_id\", \"payment_method\", \"payment_Status\", \"trip_start_timestamp\")\n",
    "\n",
    "# Adding a new column 'Due_Date' to df2, calculated as 7 days from 'trip_start_timestamp'\n",
    "df2 = df2.withColumn(\"Due_Date\", F.expr(\"to_date(trip_start_timestamp) + 7\"))\n",
    "\n",
    "# Repartitioning df2 into a single partition and saving it as a Delta table\n",
    "df2.repartition(1).write.save(\"/mnt/Deltalake/silver_Zone/Payment_Status_Dimension\")\n"
   ]
  },
  {
   "cell_type": "code",
   "execution_count": null,
   "metadata": {
    "application/vnd.databricks.v1+cell": {
     "cellMetadata": {
      "byteLimit": 2048000,
      "rowLimit": 10000
     },
     "inputWidgets": {},
     "nuid": "ae9b9949-1b9f-4690-bb0e-1ad904df9003",
     "showTitle": false,
     "title": ""
    }
   },
   "outputs": [],
   "source": []
  }
 ],
 "metadata": {
  "application/vnd.databricks.v1+notebook": {
   "dashboards": [],
   "language": "python",
   "notebookMetadata": {
    "pythonIndentUnit": 4
   },
   "notebookName": "Payment_status_dimension",
   "notebookOrigID": 639055602651988,
   "widgets": {}
  },
  "language_info": {
   "name": "python"
  }
 },
 "nbformat": 4,
 "nbformat_minor": 0
}
